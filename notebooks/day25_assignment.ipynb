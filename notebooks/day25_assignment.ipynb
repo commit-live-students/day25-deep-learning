{
 "cells": [
  {
   "cell_type": "markdown",
   "metadata": {},
   "source": [
    "# Hand Written Digit Classification with Keras\n",
    "\n",
    "We learnt how CNNs are extremely useful in working with images data. In this series of assignments, we will experiment with different types of model to better understand the workings and advantages of CNNs.\n",
    "\n",
    "\n",
    "## Setting\n",
    "\n",
    "* We will be working with MNIST dataset, which is a labeled images of 0-9 numbers.\n",
    "* We will be using keras library to carry out modeling and training of neural networks and CNNs"
   ]
  },
  {
   "cell_type": "code",
   "execution_count": 20,
   "metadata": {
    "collapsed": true
   },
   "outputs": [],
   "source": [
    "# Loading necessary packages\n",
    "\n",
    "import numpy\n",
    "\n",
    "from keras.datasets import mnist\n",
    "from keras.models import Sequential\n",
    "from keras.layers import Dense\n",
    "from keras.layers import Dropout\n",
    "from keras.utils import np_utils\n",
    "from keras.layers import Flatten\n",
    "from keras.layers.convolutional import Convolution2D\n",
    "from keras.layers.convolutional import MaxPooling2D\n",
    "from keras import backend as K\n",
    "K.set_image_dim_ordering('th')\n",
    "\n",
    "import matplotlib.pyplot as plt\n",
    "%matplotlib inline"
   ]
  },
  {
   "cell_type": "code",
   "execution_count": 21,
   "metadata": {
    "collapsed": true
   },
   "outputs": [],
   "source": [
    "# fix random seed for reproducibility\n",
    "seed = 42\n",
    "numpy.random.seed(seed)"
   ]
  },
  {
   "cell_type": "markdown",
   "metadata": {},
   "source": [
    "## Classify MNIST dataset using an ANN and CNN"
   ]
  },
  {
   "cell_type": "markdown",
   "metadata": {},
   "source": [
    "## 1. Write `load_mnist` function:\n",
    "\n",
    "- The function loads mnist dataset from keras library\n",
    "- It takes in no parameters\n",
    "- Returns \n",
    "    - X_train, X_test, y_train, y_test (Numpy arrays for training, testing; any format acceptable by sklearn, keras will work)"
   ]
  },
  {
   "cell_type": "code",
   "execution_count": 22,
   "metadata": {
    "collapsed": true
   },
   "outputs": [],
   "source": [
    "def load_mnist():\n",
    "    (X_train, y_train), (X_test, y_test) = mnist.load_data()\n",
    "    return X_train, X_test, y_train, y_test"
   ]
  },
  {
   "cell_type": "code",
   "execution_count": 23,
   "metadata": {
    "collapsed": true
   },
   "outputs": [],
   "source": [
    "X_train, X_test, y_train, y_test = load_mnist()"
   ]
  },
  {
   "cell_type": "code",
   "execution_count": 24,
   "metadata": {
    "collapsed": false
   },
   "outputs": [
    {
     "data": {
      "text/plain": [
       "(60000, 28, 28)"
      ]
     },
     "execution_count": 24,
     "metadata": {},
     "output_type": "execute_result"
    }
   ],
   "source": [
    "X_train.shape"
   ]
  },
  {
   "cell_type": "markdown",
   "metadata": {},
   "source": [
    "## 2. Write `plot_mnist` function:\n",
    "\n",
    "- The function plots randomly picked 4 images from the dataset\n",
    "- It takes in no parameters\n",
    "- Returns\n",
    "    - The function plots 4 images in 2x2 fashion in a single figure\n",
    "    - also matplotlib object of the figure\n",
    "   "
   ]
  },
  {
   "cell_type": "code",
   "execution_count": 5,
   "metadata": {
    "collapsed": true
   },
   "outputs": [],
   "source": [
    "def plot_mnist():\n",
    "    plt.figure(figsize=(10,10))\n",
    "    plt.subplot(221)\n",
    "    plt.imshow(X_train[23], cmap=plt.get_cmap('gray'))\n",
    "    plt.subplot(222)\n",
    "    plt.imshow(X_train[788], cmap=plt.get_cmap('gray'))\n",
    "    plt.subplot(223)\n",
    "    plt.imshow(X_train[456], cmap=plt.get_cmap('gray'))\n",
    "    plt.subplot(224)\n",
    "    plt.imshow(X_train[234], cmap=plt.get_cmap('gray'))\n",
    "    plt.show()\n",
    "    return plt"
   ]
  },
  {
   "cell_type": "code",
   "execution_count": 6,
   "metadata": {
    "collapsed": false
   },
   "outputs": [
    {
     "data": {
      "image/png": "[encoded data removed]",
      "text/plain": [
       "<matplotlib.figure.Figure at 0x12ace6750>"
      ]
     },
     "metadata": {},
     "output_type": "display_data"
    }
   ],
   "source": [
    "a = plot_mnist()"
   ]
  },
  {
   "cell_type": "markdown",
   "metadata": {},
   "source": [
    "## 3. Write `flatten_normalise` function:\n",
    "\n",
    "- Next, we want to convert our feature set into a format which can be used by the ANN\n",
    "- The function flattens the dataset and normalises feature values from 0-255 to 0-1\n",
    "- Accepts feature matrix\n",
    "- Returns \n",
    "    - flattened and normalised feature matrix, where each row represents 1 observation/image.\n",
    "    \n",
    "    \n",
    "Hint: Observe how each datapoint is arranged in the feature matrix."
   ]
  },
  {
   "cell_type": "code",
   "execution_count": 7,
   "metadata": {
    "collapsed": true
   },
   "outputs": [],
   "source": [
    "def flatten_normalise(X):\n",
    "    num_pixels = X.shape[1] * X.shape[2]\n",
    "    return X.reshape(X.shape[0], num_pixels).astype('float32')/255"
   ]
  },
  {
   "cell_type": "code",
   "execution_count": 8,
   "metadata": {
    "collapsed": true
   },
   "outputs": [],
   "source": [
    "X_train1 = flatten_normalise(X_train)\n",
    "X_test1 = flatten_normalise(X_test)"
   ]
  },
  {
   "cell_type": "markdown",
   "metadata": {},
   "source": [
    "## 4. Write `OHE` function:\n",
    "\n",
    "- Next, we want to convert our target set into a OHE matrix\n",
    "- The function one-hot-encodes the target variable\n",
    "- Accepts numpy matrix for target variable\n",
    "- Returns \n",
    "    - One Hot Encoded target variable"
   ]
  },
  {
   "cell_type": "code",
   "execution_count": 9,
   "metadata": {
    "collapsed": true
   },
   "outputs": [],
   "source": [
    "def OHE(y):\n",
    "    return np_utils.to_categorical(y)"
   ]
  },
  {
   "cell_type": "code",
   "execution_count": 10,
   "metadata": {
    "collapsed": true
   },
   "outputs": [],
   "source": [
    "y_train1 = OHE(y_train)\n",
    "y_test1 = OHE(y_test)"
   ]
  },
  {
   "cell_type": "markdown",
   "metadata": {},
   "source": [
    "## 5. Write `baseline_model` function\n",
    "\n",
    "- Now that we have converted both the input fetures and target variable in the correct format, we can go ahead and build the baseline keras model.\n",
    "- We want to build a neural network with following architecture\n",
    "    - Layer 1: Input layer with `relu` activation function and `normal` kernel intializer\n",
    "    - Layer 2: Output layer with `softmax` activation function and `normal` kernel intializer\n",
    "    - Loss function: `categorical_crossentropy`\n",
    "    - optimizer: `adam`\n",
    "    - Metric: `accuracy`\n",
    "    - \n",
    "- Write a function `baseline_model` that\n",
    "    - Accepts:\n",
    "        - Number of input features (int)\n",
    "        - Number of output classes (int)\n",
    "        - X_train, X_test (Numpy arrays with dimension `(m x input_feature_size)` for training, testing; any format acceptable by sklearn, keras will work) (m is number of observations)\n",
    "        - y_train, y_test (Numpy arrays with dimension `(m x num_classes)` for training, testing; any format acceptable by sklearn, keras will work) (m is number of observations)\n",
    "        - number of epochs to run the model for (int) (default 10)\n",
    "    - Returns:\n",
    "        - Keras neural network model trained on X_train, y_train and validated on X_test, y_test"
   ]
  },
  {
   "cell_type": "code",
   "execution_count": 11,
   "metadata": {
    "collapsed": true
   },
   "outputs": [],
   "source": [
    "def baseline_model(input_feature_size, num_classes, X_train, X_test, y_train, y_test, epochs=10):\n",
    "    \n",
    "    model = Sequential()\n",
    "    model.add(Dense(input_feature_size, input_dim=input_feature_size, kernel_initializer='normal', activation='relu'))\n",
    "    model.add(Dense(num_classes, kernel_initializer='normal', activation='softmax'))\n",
    "    model.compile(loss='categorical_crossentropy', optimizer='adam', metrics=['accuracy'])\n",
    "    model.fit(X_train, y_train, validation_data=(X_test, y_test), epochs=epochs, batch_size=200, verbose=1)\n",
    "    return model"
   ]
  },
  {
   "cell_type": "code",
   "execution_count": 12,
   "metadata": {
    "collapsed": false
   },
   "outputs": [
    {
     "name": "stdout",
     "output_type": "stream",
     "text": [
      "Train on 60000 samples, validate on 10000 samples\n",
      "Epoch 1/10\n",
      "60000/60000 [==============================] - 10s - loss: 0.2760 - acc: 0.9215 - val_loss: 0.1416 - val_acc: 0.9582\n",
      "Epoch 2/10\n",
      "60000/60000 [==============================] - 11s - loss: 0.1092 - acc: 0.9688 - val_loss: 0.0937 - val_acc: 0.9713\n",
      "Epoch 3/10\n",
      "60000/60000 [==============================] - 10s - loss: 0.0714 - acc: 0.9787 - val_loss: 0.0784 - val_acc: 0.9765\n",
      "Epoch 4/10\n",
      "60000/60000 [==============================] - 10s - loss: 0.0493 - acc: 0.9859 - val_loss: 0.0683 - val_acc: 0.9798\n",
      "Epoch 5/10\n",
      "60000/60000 [==============================] - 10s - loss: 0.0358 - acc: 0.9896 - val_loss: 0.0647 - val_acc: 0.9790\n",
      "Epoch 6/10\n",
      "60000/60000 [==============================] - 12s - loss: 0.0262 - acc: 0.9929 - val_loss: 0.0602 - val_acc: 0.9814\n",
      "Epoch 7/10\n",
      "60000/60000 [==============================] - 12s - loss: 0.0191 - acc: 0.9957 - val_loss: 0.0645 - val_acc: 0.9801\n",
      "Epoch 8/10\n",
      "60000/60000 [==============================] - 10s - loss: 0.0152 - acc: 0.9964 - val_loss: 0.0584 - val_acc: 0.9807\n",
      "Epoch 9/10\n",
      "60000/60000 [==============================] - 10s - loss: 0.0103 - acc: 0.9979 - val_loss: 0.0596 - val_acc: 0.9828\n",
      "Epoch 10/10\n",
      "60000/60000 [==============================] - 10s - loss: 0.0076 - acc: 0.9986 - val_loss: 0.0678 - val_acc: 0.9790\n"
     ]
    }
   ],
   "source": [
    "model = baseline_model(784, 10, X_train1, X_test1, y_train1, y_test1)"
   ]
  },
  {
   "cell_type": "code",
   "execution_count": 13,
   "metadata": {
    "collapsed": false
   },
   "outputs": [
    {
     "name": "stdout",
     "output_type": "stream",
     "text": [
      "_________________________________________________________________\n",
      "Layer (type)                 Output Shape              Param #   \n",
      "=================================================================\n",
      "dense_1 (Dense)              (None, 784)               615440    \n",
      "_________________________________________________________________\n",
      "dense_2 (Dense)              (None, 10)                7850      \n",
      "=================================================================\n",
      "Total params: 623,290\n",
      "Trainable params: 623,290\n",
      "Non-trainable params: 0\n",
      "_________________________________________________________________\n"
     ]
    }
   ],
   "source": [
    "model.summary()"
   ]
  },
  {
   "cell_type": "code",
   "execution_count": 14,
   "metadata": {
    "collapsed": false
   },
   "outputs": [
    {
     "name": "stdout",
     "output_type": "stream",
     "text": [
      "Baseline Accuracy: 97.90%\n",
      "Baseline Error: 2.10%\n"
     ]
    }
   ],
   "source": [
    "# Final evaluation of the model\n",
    "scores = model.evaluate(X_test1, y_test1, verbose=0)\n",
    "print(\"Baseline Accuracy: {:.2f}%\".format(scores[1]*100))\n",
    "print(\"Baseline Error: {:.2f}%\".format(100-scores[1]*100))"
   ]
  },
  {
   "cell_type": "markdown",
   "metadata": {},
   "source": [
    "## 6. Write `reshape_normalize` function\n",
    "\n",
    "- Next, we want to convert our feature set into a format which can be used by the CNN\n",
    "- Theano backed keras accepts feature in NCHW shape where,\n",
    "    N: number of observations\n",
    "    C: number of channels in the image\n",
    "    H: height of the image\n",
    "    W: width of the image\n",
    "- The function also normalises feature values from 0-255 to 0-1\n",
    "- Write a function `reshape_normalize` that\n",
    "    - Accepts original feature matrix in NxHxW format\n",
    "- Returns \n",
    "    - NCHW reshaped and normalised feature matrix"
   ]
  },
  {
   "cell_type": "code",
   "execution_count": 15,
   "metadata": {
    "collapsed": true
   },
   "outputs": [],
   "source": [
    "def reshape_normalise(X):\n",
    "    X =  X.reshape(X.shape[0], 1, 28, 28).astype('float32')\n",
    "    X = X/255\n",
    "    return X"
   ]
  },
  {
   "cell_type": "code",
   "execution_count": 16,
   "metadata": {
    "collapsed": true
   },
   "outputs": [],
   "source": [
    "# normalize inputs from 0-255 to 0-1\n",
    "X_train2 = reshape_normalise(X_train)\n",
    "X_test2 = reshape_normalise(X_test)"
   ]
  },
  {
   "cell_type": "markdown",
   "metadata": {},
   "source": [
    "## 7. Write `cnn_model` function\n",
    "\n",
    "- Now that we have converted both the input fetures and target variable in the correct format, we can go ahead and build the baseline keras model.\n",
    "- We want to build a neural network with following architecture\n",
    "    - Input Convolution Layer with 30 kernels of size 5x5\n",
    "    - Layer 2: Max Pooling with window size 2x2\n",
    "    - Layer 3: Convolution layer with 15 kernels of size 3x3\n",
    "    - Layer 4: Max Pooling with window size 2x2\n",
    "    - Layer 5: Dropout Layer\n",
    "    - Layer 6: Dense Layer with 128 neurons\n",
    "    - Layer 7: Dense Layer with 50 neurons\n",
    "    - Output Layer with neurons equal to `num_classes` \n",
    "    - Loss function: `categorical_crossentropy`\n",
    "    - optimizer: `adam`\n",
    "    - Metric: `accuracy`\n",
    "\n",
    "Note: Use appropriate activation functions for layers that require them.\n",
    "\n",
    "- Write a function `cnn_model` that\n",
    "    - Accepts:\n",
    "        - Number of output classes (int)\n",
    "        - X_train, X_test (Numpy arrays with dimension `(m x 1 x 28 x 28)` for training, testing; any format acceptable by sklearn, keras will work) (m is number of observations)\n",
    "        - y_train, y_test (Numpy arrays with dimension `(m x num_classes)` for training, testing; any format acceptable by sklearn, keras will work) (m is number of observations)\n",
    "        - number of epochs to run the model for (int) (default 10)\n",
    "        - dropout ratio (float) (default 0.2)\n",
    "    - Returns:\n",
    "        - Keras neural network model trained on X_train, y_train and validated on X_test, y_test"
   ]
  },
  {
   "cell_type": "code",
   "execution_count": 26,
   "metadata": {
    "collapsed": true
   },
   "outputs": [],
   "source": [
    "# define the larger model\n",
    "def cnn_model(num_classes, X_train, X_test, y_train, y_test, epochs=5, droput_ratio=0.2):\n",
    "    \n",
    "    # create model\n",
    "    model = Sequential()\n",
    "    model.add(Convolution2D(30, (5, 5), input_shape=(1, 28, 28), activation='relu'))\n",
    "    model.add(MaxPooling2D(pool_size=(2, 2)))\n",
    "    model.add(Convolution2D(15, (3, 3), activation='relu'))\n",
    "    model.add(MaxPooling2D(pool_size=(2, 2)))\n",
    "    model.add(Dropout(0.2))\n",
    "    model.add(Flatten())\n",
    "    model.add(Dense(128, activation='relu'))\n",
    "    model.add(Dense(50, activation='relu'))\n",
    "    model.add(Dense(num_classes, activation='softmax'))\n",
    "    model.compile(loss='categorical_crossentropy', optimizer='adam', metrics=['accuracy'])\n",
    "    model.fit(X_train, y_train, validation_data=(X_test, y_test), epochs=epochs, batch_size=200, verbose=2)\n",
    "    return model"
   ]
  },
  {
   "cell_type": "code",
   "execution_count": 27,
   "metadata": {
    "collapsed": false
   },
   "outputs": [
    {
     "name": "stdout",
     "output_type": "stream",
     "text": [
      "Train on 60000 samples, validate on 10000 samples\n",
      "Epoch 1/5\n",
      "212s - loss: 0.3562 - acc: 0.8920 - val_loss: 0.0838 - val_acc: 0.9746\n",
      "Epoch 2/5\n",
      "207s - loss: 0.0974 - acc: 0.9703 - val_loss: 0.0543 - val_acc: 0.9824\n",
      "Epoch 3/5\n",
      "214s - loss: 0.0696 - acc: 0.9783 - val_loss: 0.0404 - val_acc: 0.9867\n",
      "Epoch 4/5\n",
      "235s - loss: 0.0552 - acc: 0.9832 - val_loss: 0.0346 - val_acc: 0.9889\n",
      "Epoch 5/5\n",
      "217s - loss: 0.0494 - acc: 0.9843 - val_loss: 0.0283 - val_acc: 0.9902\n"
     ]
    }
   ],
   "source": [
    "# build the model\n",
    "large_cnn_model = cnn_model(10, X_train2, X_test2, y_train1, y_test1)"
   ]
  },
  {
   "cell_type": "code",
   "execution_count": 28,
   "metadata": {
    "collapsed": false
   },
   "outputs": [
    {
     "name": "stdout",
     "output_type": "stream",
     "text": [
      "Large CNN Accuracy: 99.02%\n",
      "Large CNN Error: 0.98%\n"
     ]
    }
   ],
   "source": [
    "# Final evaluation of the model\n",
    "large_cnn_scores = large_cnn_model.evaluate(X_test2, y_test1, verbose=0)\n",
    "print(\"Large CNN Accuracy: {:.2f}%\".format(large_cnn_scores[1]*100))\n",
    "print(\"Large CNN Error: {:.2f}%\".format(100-large_cnn_scores[1]*100))"
   ]
  }
 ],
 "metadata": {
  "anaconda-cloud": {},
  "kernelspec": {
   "display_name": "Python [conda env:greyatom]",
   "language": "python",
   "name": "conda-env-greyatom-py"
  },
  "language_info": {
   "codemirror_mode": {
    "name": "ipython",
    "version": 2
   },
   "file_extension": ".py",
   "mimetype": "text/x-python",
   "name": "python",
   "nbconvert_exporter": "python",
   "pygments_lexer": "ipython2",
   "version": "2.7.13"
  }
 },
 "nbformat": 4,
 "nbformat_minor": 2
}
